{
  "nbformat": 4,
  "nbformat_minor": 0,
  "metadata": {
    "colab": {
      "provenance": []
    },
    "kernelspec": {
      "name": "python3",
      "display_name": "Python 3"
    },
    "language_info": {
      "name": "python"
    }
  },
  "cells": [
    {
      "cell_type": "markdown",
      "source": [
        "# Which other food intolerances is a lactose intolerant person likely to have, if they still have symptoms?"
      ],
      "metadata": {
        "id": "fd-3DSnLPR80"
      }
    },
    {
      "cell_type": "markdown",
      "source": [
        "# Pymed API\n",
        "- https://github.com/gijswobben/pymed\n",
        "\n",
        "- See https://www.ncbi.nlm.nih.gov/pmc/tools/developers/ for \"how to ...\" explanations\n",
        "\n",
        "\n",
        "## Intolerances to look for:\n",
        "- Soja/soy: 17 (geen 'soya' want dat is spaans)\n",
        "- gluten: 5\n",
        "- suiker/sacharose/sucrose/sugar: 3 \n",
        "- noten/nuts/nut: 2 \n",
        "- hulpstoffen/hulpstof/(food) additives: 1\n",
        "\n",
        "\n",
        "- Total =  28\n",
        "\n",
        "\n",
        "## Terms in scientific papers to look for\n",
        "For each (sub)term, look in abstract for...\n",
        "- lactose, [...], intolerance\n",
        "- lactose, [...], intolerant\n",
        "- lactose, [nl term ...], intolerant\n",
        "- lactose, [nl term ...], intolerantie\n",
        "\n",
        "\n",
        "Count the number of results, despite positivie/negative/false relation."
      ],
      "metadata": {
        "id": "BttrE0YkNSXU"
      }
    },
    {
      "cell_type": "code",
      "source": [
        "pip install pymed"
      ],
      "metadata": {
        "colab": {
          "base_uri": "https://localhost:8080/"
        },
        "id": "_U2HCHoMM73K",
        "outputId": "6be364b6-9380-4ed3-aa9a-4c3dcc00ca86"
      },
      "execution_count": 1,
      "outputs": [
        {
          "output_type": "stream",
          "name": "stdout",
          "text": [
            "Looking in indexes: https://pypi.org/simple, https://us-python.pkg.dev/colab-wheels/public/simple/\n",
            "Collecting pymed\n",
            "  Downloading pymed-0.8.9-py3-none-any.whl (9.6 kB)\n",
            "Requirement already satisfied: requests>=2.20.0 in /usr/local/lib/python3.8/dist-packages (from pymed) (2.23.0)\n",
            "Requirement already satisfied: urllib3!=1.25.0,!=1.25.1,<1.26,>=1.21.1 in /usr/local/lib/python3.8/dist-packages (from requests>=2.20.0->pymed) (1.24.3)\n",
            "Requirement already satisfied: chardet<4,>=3.0.2 in /usr/local/lib/python3.8/dist-packages (from requests>=2.20.0->pymed) (3.0.4)\n",
            "Requirement already satisfied: certifi>=2017.4.17 in /usr/local/lib/python3.8/dist-packages (from requests>=2.20.0->pymed) (2022.12.7)\n",
            "Requirement already satisfied: idna<3,>=2.5 in /usr/local/lib/python3.8/dist-packages (from requests>=2.20.0->pymed) (2.10)\n",
            "Installing collected packages: pymed\n",
            "Successfully installed pymed-0.8.9\n"
          ]
        }
      ]
    },
    {
      "cell_type": "markdown",
      "source": [
        "# Search pubmed functions"
      ],
      "metadata": {
        "id": "sOJVpeHBNzvG"
      }
    },
    {
      "cell_type": "code",
      "source": [
        "#Code partly derived from Gijs Wobben (https://github.com/gijswobben/pymed/blob/master/examples/simple_search/main.py)\n",
        "from pymed import PubMed\n",
        "import json\n",
        "\n",
        "#To retrieve lists of PubMed articles containing the three words in 'terms' \n",
        "#Maximally 'nr_results' articles are returned \n",
        "def query_pubmed_results(terms, nr_results):\n",
        "  # PubMed object that GraphQL can use to query\n",
        "  pubmed = PubMed(tool=\"uniTextMiningProject\", email=\"lotte.degroot@ru.nl\")\n",
        "\n",
        "  # GraphQL query\n",
        "  query = \"Abstract:\" + terms[0] + \"&Abstract:\" + terms[1] + \"&Abstract:\" + terms[2]\n",
        "  print(\"QUERY IS {}\".format(query)) #sanity check\n",
        "\n",
        "  # Execute the query against the API\n",
        "  results = pubmed.query(query, max_results=50)\n",
        "\n",
        "  #Retrieve the articles\n",
        "  articles = []\n",
        "  articles_json = []\n",
        "  types = []\n",
        "\n",
        "  # Loop over the retrieved articles\n",
        "  for article in results:\n",
        "      entry_dict = json.loads(article.toJSON())\n",
        "\n",
        "      articles.append(entry_dict)\n",
        "  \n",
        "      articles_json.append(article.toJSON())\n",
        "\n",
        "      types.append(type(article))\n",
        "\n",
        "  return articles, articles_json, types"
      ],
      "metadata": {
        "id": "PPgCFye9Nhz7"
      },
      "execution_count": 2,
      "outputs": []
    },
    {
      "cell_type": "code",
      "source": [
        "#Returns only the abstracts of the articles\n",
        "def get_abstracts(articles):\n",
        "  abstracts = []\n",
        "  for a in articles:\n",
        "    abstracts.append(a['abstract'])\n",
        "  return abstracts"
      ],
      "metadata": {
        "id": "jJhxFsEtCcg-"
      },
      "execution_count": 3,
      "outputs": []
    },
    {
      "cell_type": "code",
      "source": [
        "#Only returns the abstracts that actually contains all three terms in 'terms'\n",
        "def check_relevant_abstracts (abstracts, terms):\n",
        "  relevant_abstracts = []\n",
        "  for i in range(0, len(abstracts)):\n",
        "    ab = abstracts[i]\n",
        "    if ab is not None:\n",
        "      if terms[0] in ab and terms[1] in ab and terms[2] in ab:\n",
        "        relevant_abstracts.append(ab)\n",
        "  return relevant_abstracts"
      ],
      "metadata": {
        "id": "XCHxy7UxC1K9"
      },
      "execution_count": 6,
      "outputs": []
    },
    {
      "cell_type": "code",
      "source": [
        "#Calls all needed functions to return relevant abstracts based on given terms\n",
        "def search_pubmed (terms, nr_results):\n",
        "  articles, articles_json, types = query_pubmed_results(terms, nr_results)\n",
        "  abstracts = get_abstracts(articles)\n",
        "  relevant_abstracts = check_relevant_abstracts(abstracts, terms)\n",
        "  return relevant_abstracts"
      ],
      "metadata": {
        "id": "AoS-FKm6Nyru"
      },
      "execution_count": 7,
      "outputs": []
    },
    {
      "cell_type": "code",
      "source": [
        "#Check for duplicates in list with the results of all queries\n",
        "def duplicate_check (all_results):\n",
        "  no_duplicates = []\n",
        "  if len(all_results) > 0:\n",
        "    print(\"Before duplicate check: {} results\".format(len(all_results)))\n",
        "    to_set = set(all_results)\n",
        "    no_duplicates = list(to_set)\n",
        "    print(\"After duplicate check: {} results\".format(len(no_duplicates)))\n",
        "  else:\n",
        "    print(\"No results were found so there are no duplicates\")\n",
        "  return no_duplicates"
      ],
      "metadata": {
        "id": "a7px1cu12mKO"
      },
      "execution_count": 73,
      "outputs": []
    },
    {
      "cell_type": "code",
      "source": [
        "#Save the results to a local .txt file\n",
        "def save_results_txt (results_no_duplicates, intolerance_name):\n",
        "  file_name = r'' + intolerance_name + '_results.txt'\n",
        "  if len(results_no_duplicates) > 0:\n",
        "    with open(file_name, 'w') as fp:\n",
        "      for abstract in soja_no_duplicates:\n",
        "        fp.write(abstract + \"\\n\\n\")\n",
        "    print(\"Results saved as {}\".format(file_name))\n",
        "  else:\n",
        "    print(\"No results were found so there is nothing to save in a file\")"
      ],
      "metadata": {
        "id": "VFNS5vDy3sRJ"
      },
      "execution_count": 69,
      "outputs": []
    },
    {
      "cell_type": "markdown",
      "source": [
        "# Soja intolerance"
      ],
      "metadata": {
        "id": "7c8xoReyOmoM"
      }
    },
    {
      "cell_type": "markdown",
      "source": [
        "Term combinations to look for:\n",
        "- EN: lactose, soy, intolerance (7 results)\n",
        "- EN: lactose, soy, intolerant (0 results\n",
        "- NL: lactose, soja, intolerant (0 results)\n",
        "- NL: lactose, soja, intolerantie (0 results)"
      ],
      "metadata": {
        "id": "V1EAoqKndlr1"
      }
    },
    {
      "cell_type": "code",
      "source": [
        "#Starting with maximum nr_results parameter at 20. If results exceed 20, increase number to look for\n",
        "soja_results1 = search_pubmed(['lactose', 'soy', 'intolerance'], 20)\n",
        "print(\"NR FOUND RESULTS =\", len(soja_results1))"
      ],
      "metadata": {
        "colab": {
          "base_uri": "https://localhost:8080/"
        },
        "id": "XiZDb3g1OoDh",
        "outputId": "775eecab-e188-4aa6-822d-b2d34041af47"
      },
      "execution_count": 70,
      "outputs": [
        {
          "output_type": "stream",
          "name": "stdout",
          "text": [
            "QUERY IS Abstract:lactose&Abstract:soy&Abstract:intolerance\n",
            "NR FOUND RESULTS = 7\n"
          ]
        }
      ]
    },
    {
      "cell_type": "code",
      "source": [
        "soja_results2 = search_pubmed(['lactose', 'soy', 'intolerant'], 20)\n",
        "print(\"NR FOUND RESULTS =\", len(soja_results2))"
      ],
      "metadata": {
        "colab": {
          "base_uri": "https://localhost:8080/"
        },
        "id": "dH1LWRYvO_rG",
        "outputId": "4cbb6691-6afc-4866-ffa3-b904f45acc11"
      },
      "execution_count": 54,
      "outputs": [
        {
          "output_type": "stream",
          "name": "stdout",
          "text": [
            "QUERY IS Abstract:lactose&Abstract:soy&Abstract:intolerant\n",
            "NR FOUND RESULTS = 0\n"
          ]
        }
      ]
    },
    {
      "cell_type": "code",
      "source": [
        "soja_results3 = search_pubmed(['lactose', 'soja', 'intolerant'], 20)\n",
        "print(\"NR FOUND RESULTS =\", len(soja_results3))"
      ],
      "metadata": {
        "colab": {
          "base_uri": "https://localhost:8080/"
        },
        "id": "jSipRcnKde4l",
        "outputId": "7e861d83-f095-466d-c19c-ebd585cc40ea"
      },
      "execution_count": 55,
      "outputs": [
        {
          "output_type": "stream",
          "name": "stdout",
          "text": [
            "QUERY IS Abstract:lactose&Abstract:soja&Abstract:intolerant\n",
            "NR FOUND RESULTS = 0\n"
          ]
        }
      ]
    },
    {
      "cell_type": "code",
      "source": [
        "soja_results4 = search_pubmed(['lactose', 'soja', 'intolerantie'], 20)\n",
        "print(\"NR FOUND RESULTS =\", len(soja_results4))"
      ],
      "metadata": {
        "colab": {
          "base_uri": "https://localhost:8080/"
        },
        "id": "2hbvKXVVeMer",
        "outputId": "741f2e07-f14c-41e7-b8ca-0ed1a207634c"
      },
      "execution_count": 56,
      "outputs": [
        {
          "output_type": "stream",
          "name": "stdout",
          "text": [
            "QUERY IS Abstract:lactose&Abstract:soja&Abstract:intolerantie\n",
            "NR FOUND RESULTS = 0\n"
          ]
        }
      ]
    },
    {
      "cell_type": "code",
      "source": [
        "soja_all_results = soja_results1 + soja_results2 + soja_results3\n",
        "soja_no_duplicates = duplicate_check(soja_all_results)\n",
        "save_results_txt(soja_no_duplicates, 'soja')"
      ],
      "metadata": {
        "colab": {
          "base_uri": "https://localhost:8080/"
        },
        "id": "EQFazV313YId",
        "outputId": "839999f5-74ea-4c89-ecae-f19dbfbf6513"
      },
      "execution_count": 66,
      "outputs": [
        {
          "output_type": "stream",
          "name": "stdout",
          "text": [
            "Before duplicate check: 7 results\n",
            "After duplicate check: 7 results\n",
            "Results saved as soja_results.txt\n"
          ]
        }
      ]
    },
    {
      "cell_type": "markdown",
      "source": [
        "# Gluten intolerance\n",
        "\n",
        "Term combinations to look for:\n",
        "- EN: lactose, gluten, intolerance (7 results)\n",
        "- EN/NL: lactose, gluten, intolerant (0 results)\n",
        "- NL: lactose, gluten, intolerantie (0 results)"
      ],
      "metadata": {
        "id": "MXS-4fKA85KH"
      }
    },
    {
      "cell_type": "code",
      "source": [
        "gluten_results1 = search_pubmed(['lactose', 'gluten', 'intolerance'], 20)\n",
        "print(\"NR FOUND RESULTS =\", len(gluten_results1))"
      ],
      "metadata": {
        "colab": {
          "base_uri": "https://localhost:8080/"
        },
        "id": "RNGZNyawJmb3",
        "outputId": "183024b2-f749-4d73-9d99-56cdad80405f"
      },
      "execution_count": 12,
      "outputs": [
        {
          "output_type": "stream",
          "name": "stdout",
          "text": [
            "QUERY IS Abstract:lactose&Abstract:gluten&Abstract:intolerance\n",
            "NR FOUND RESULTS = 7\n"
          ]
        }
      ]
    },
    {
      "cell_type": "code",
      "source": [
        "gluten_results2 = search_pubmed(['lactose', 'gluten', 'intolerant'], 20)\n",
        "print(\"NR FOUND RESULTS =\", len(gluten_results2))"
      ],
      "metadata": {
        "colab": {
          "base_uri": "https://localhost:8080/"
        },
        "id": "_VDQJmwciKks",
        "outputId": "e1979d0c-7361-4d69-fe42-5ed326f05b0e"
      },
      "execution_count": 13,
      "outputs": [
        {
          "output_type": "stream",
          "name": "stdout",
          "text": [
            "QUERY IS Abstract:lactose&Abstract:gluten&Abstract:intolerant\n",
            "NR FOUND RESULTS = 0\n"
          ]
        }
      ]
    },
    {
      "cell_type": "code",
      "source": [
        "gluten_results3 = search_pubmed(['lactose', 'gluten', 'intolerantie'], 20)\n",
        "print(\"NR FOUND RESULTS =\", len(gluten_results3))"
      ],
      "metadata": {
        "colab": {
          "base_uri": "https://localhost:8080/"
        },
        "id": "p93jJiEhiTA1",
        "outputId": "c387fbde-5725-4e64-af7c-1e7b6eeb696c"
      },
      "execution_count": 14,
      "outputs": [
        {
          "output_type": "stream",
          "name": "stdout",
          "text": [
            "QUERY IS Abstract:lactose&Abstract:gluten&Abstract:intolerantie\n",
            "NR FOUND RESULTS = 0\n"
          ]
        }
      ]
    },
    {
      "cell_type": "code",
      "source": [
        "gluten_all_results = gluten_results1 + gluten_results2 + gluten_results3\n",
        "gluten_no_duplicates = duplicate_check(gluten_all_results) \n",
        "save_results_txt(gluten_no_duplicates, 'gluten')"
      ],
      "metadata": {
        "colab": {
          "base_uri": "https://localhost:8080/"
        },
        "id": "I2KdyBqf3GRe",
        "outputId": "cb763dd5-01e9-4818-83e4-24a828e04e59"
      },
      "execution_count": 67,
      "outputs": [
        {
          "output_type": "stream",
          "name": "stdout",
          "text": [
            "Before duplicate check: 7 results\n",
            "After duplicate check: 7 results\n",
            "Results saved as gluten_results.txt\n"
          ]
        }
      ]
    },
    {
      "cell_type": "markdown",
      "source": [
        "# Suiker results\n",
        "\n",
        "Term combinations to look for:\n",
        "- EN: lactose, sugar, intolerance (0 results)\n",
        "- EN: lactose, sugar, intolerant (0 results)\n",
        "- EN: lactose, sucrose, intolerance (1 results)\n",
        "- EN: lactose, sucrose, intolerant (0 results)\n",
        "- NL: lactose, suiker, intolerant (0 results)\n",
        "- NL: lactose, suiker, intolerantie (0 results)\n",
        "- NL: lactose, sacharose, intolerant (0 results)\n",
        "- NL: lactose, sacharose, intolerantie (0 results)\n"
      ],
      "metadata": {
        "id": "L4oxPl3_irEY"
      }
    },
    {
      "cell_type": "code",
      "source": [
        "sugar_results1 = search_pubmed(['lactose', 'sugar', 'intolerance'], 20)\n",
        "print(\"NR FOUND RESULTS =\", len(sugar_results1))"
      ],
      "metadata": {
        "colab": {
          "base_uri": "https://localhost:8080/"
        },
        "id": "SO1EUsUXjS4V",
        "outputId": "b9947893-febf-400d-a356-8138c3039042"
      },
      "execution_count": 16,
      "outputs": [
        {
          "output_type": "stream",
          "name": "stdout",
          "text": [
            "QUERY IS Abstract:lactose&Abstract:sugar&Abstract:intolerance\n",
            "NR FOUND RESULTS = 0\n"
          ]
        }
      ]
    },
    {
      "cell_type": "code",
      "source": [
        "sugar_results2 = search_pubmed(['lactose', 'sugar', 'intolerant'], 20)\n",
        "print(\"NR FOUND RESULTS =\", len(sugar_results2))"
      ],
      "metadata": {
        "colab": {
          "base_uri": "https://localhost:8080/"
        },
        "id": "Trg27Hy8jYPM",
        "outputId": "eda52dca-9073-461e-860b-750f3c76fdda"
      },
      "execution_count": 17,
      "outputs": [
        {
          "output_type": "stream",
          "name": "stdout",
          "text": [
            "QUERY IS Abstract:lactose&Abstract:sugar&Abstract:intolerant\n",
            "NR FOUND RESULTS = 0\n"
          ]
        }
      ]
    },
    {
      "cell_type": "code",
      "source": [
        "sugar_results3 = search_pubmed(['lactose', 'sucrose', 'intolerance'], 20)\n",
        "print(\"NR FOUND RESULTS =\", len(sugar_results3))"
      ],
      "metadata": {
        "colab": {
          "base_uri": "https://localhost:8080/"
        },
        "id": "FG55JBtGjcfZ",
        "outputId": "a1449e21-7f99-4bea-ae5e-1f255fd58fdc"
      },
      "execution_count": 18,
      "outputs": [
        {
          "output_type": "stream",
          "name": "stdout",
          "text": [
            "QUERY IS Abstract:lactose&Abstract:sucrose&Abstract:intolerance\n",
            "NR FOUND RESULTS = 1\n"
          ]
        }
      ]
    },
    {
      "cell_type": "code",
      "source": [
        "sugar_results4 = search_pubmed(['lactose', 'sucrose', 'intolerant'], 20)\n",
        "print(\"NR FOUND RESULTS =\", len(sugar_results4))"
      ],
      "metadata": {
        "colab": {
          "base_uri": "https://localhost:8080/"
        },
        "id": "YzA-mx4ujncy",
        "outputId": "c2e570d0-c14c-4f46-a4de-a033c1d35944"
      },
      "execution_count": 19,
      "outputs": [
        {
          "output_type": "stream",
          "name": "stdout",
          "text": [
            "QUERY IS Abstract:lactose&Abstract:sucrose&Abstract:intolerant\n",
            "NR FOUND RESULTS = 0\n"
          ]
        }
      ]
    },
    {
      "cell_type": "code",
      "source": [
        "sugar_results5 = search_pubmed(['lactose', 'suiker', 'intolerant'], 20)\n",
        "print(\"NR FOUND RESULTS =\", len(sugar_results5))"
      ],
      "metadata": {
        "colab": {
          "base_uri": "https://localhost:8080/"
        },
        "id": "mWP0cWNGju6R",
        "outputId": "217155cf-b14d-4feb-b95f-73c9834e867c"
      },
      "execution_count": 20,
      "outputs": [
        {
          "output_type": "stream",
          "name": "stdout",
          "text": [
            "QUERY IS Abstract:lactose&Abstract:suiker&Abstract:intolerant\n",
            "NR FOUND RESULTS = 0\n"
          ]
        }
      ]
    },
    {
      "cell_type": "code",
      "source": [
        "sugar_results6 = search_pubmed(['lactose', 'suiker', 'intolerantie'], 20)\n",
        "print(\"NR FOUND RESULTS =\", len(sugar_results6))"
      ],
      "metadata": {
        "colab": {
          "base_uri": "https://localhost:8080/"
        },
        "id": "zcuQw0n4jzWc",
        "outputId": "92d640ff-6584-4d2b-bc9d-31961bf63ba9"
      },
      "execution_count": 21,
      "outputs": [
        {
          "output_type": "stream",
          "name": "stdout",
          "text": [
            "QUERY IS Abstract:lactose&Abstract:suiker&Abstract:intolerantie\n",
            "NR FOUND RESULTS = 0\n"
          ]
        }
      ]
    },
    {
      "cell_type": "code",
      "source": [
        "sugar_results7 = search_pubmed(['lactose', 'sacharose', 'intolerant'], 20)\n",
        "print(\"NR FOUND RESULTS =\", len(sugar_results7))"
      ],
      "metadata": {
        "colab": {
          "base_uri": "https://localhost:8080/"
        },
        "id": "auJ4lVILj3Ew",
        "outputId": "2a3c103a-d323-404e-88cf-ab07dcc2579c"
      },
      "execution_count": 22,
      "outputs": [
        {
          "output_type": "stream",
          "name": "stdout",
          "text": [
            "QUERY IS Abstract:lactose&Abstract:sacharose&Abstract:intolerant\n",
            "NR FOUND RESULTS = 0\n"
          ]
        }
      ]
    },
    {
      "cell_type": "code",
      "source": [
        "sugar_results8 = search_pubmed(['lactose', 'sacharose', 'intolerantie'], 20)\n",
        "print(\"NR FOUND RESULTS =\", len(sugar_results8))"
      ],
      "metadata": {
        "colab": {
          "base_uri": "https://localhost:8080/"
        },
        "id": "dR73R1xpkCgn",
        "outputId": "45678cc5-d202-47dd-b400-3be4200538be"
      },
      "execution_count": 23,
      "outputs": [
        {
          "output_type": "stream",
          "name": "stdout",
          "text": [
            "QUERY IS Abstract:lactose&Abstract:sacharose&Abstract:intolerantie\n",
            "NR FOUND RESULTS = 0\n"
          ]
        }
      ]
    },
    {
      "cell_type": "code",
      "source": [
        "suiker_all_results = sugar_results1 + sugar_results2 + sugar_results3 + sugar_results4 +sugar_results5 + sugar_results6 + sugar_results7 + sugar_results8 \n",
        "suiker_no_duplicates = duplicate_check(suiker_all_results)\n",
        "save_results_txt(suiker_no_duplicates, 'suiker')"
      ],
      "metadata": {
        "colab": {
          "base_uri": "https://localhost:8080/"
        },
        "id": "4wM4UcQr11yw",
        "outputId": "ff5703d8-e161-4d46-8464-d62bd7dcb325"
      },
      "execution_count": 76,
      "outputs": [
        {
          "output_type": "stream",
          "name": "stdout",
          "text": [
            "Before duplicate check: 1 results\n",
            "After duplicate check: 1 results\n",
            "Results saved as suiker_results.txt\n"
          ]
        }
      ]
    },
    {
      "cell_type": "markdown",
      "source": [
        "# Noten\n",
        "\n",
        "Terms combinations to look for:\n",
        "- lactose, nuts, intolerance (0 results)\n",
        "- lactose, nuts, intolerant (0 results)\n",
        "- lactose, nut, intolerance (0 results)\n",
        "- lactose, nut, intolerant (0 results)\n",
        "- lactose, noten, intolerant (0 results)\n",
        "- lactose, noten, intolerantie (0 results)"
      ],
      "metadata": {
        "id": "zxDdyAQdkZTY"
      }
    },
    {
      "cell_type": "code",
      "source": [
        "noten_results1 = search_pubmed(['lactose', 'nuts', 'intolerance'], 20)\n",
        "print(\"NR FOUND RESULTS =\", len(noten_results1))"
      ],
      "metadata": {
        "colab": {
          "base_uri": "https://localhost:8080/"
        },
        "id": "1NXJALxzkvmt",
        "outputId": "7a184a77-ceb9-4fae-8738-c364389e44c9"
      },
      "execution_count": 24,
      "outputs": [
        {
          "output_type": "stream",
          "name": "stdout",
          "text": [
            "QUERY IS Abstract:lactose&Abstract:nuts&Abstract:intolerance\n",
            "NR FOUND RESULTS = 0\n"
          ]
        }
      ]
    },
    {
      "cell_type": "code",
      "source": [
        "noten_results2 = search_pubmed(['lactose', 'nuts', 'intolerant'], 20)\n",
        "print(\"NR FOUND RESULTS =\", len(noten_results2))"
      ],
      "metadata": {
        "colab": {
          "base_uri": "https://localhost:8080/"
        },
        "id": "gb1RgpqEk0YF",
        "outputId": "26247e6c-02da-47af-f82c-04ff686c0061"
      },
      "execution_count": 25,
      "outputs": [
        {
          "output_type": "stream",
          "name": "stdout",
          "text": [
            "QUERY IS Abstract:lactose&Abstract:nuts&Abstract:intolerant\n",
            "NR FOUND RESULTS = 0\n"
          ]
        }
      ]
    },
    {
      "cell_type": "code",
      "source": [
        "noten_results3 = search_pubmed(['lactose', 'nut', 'intolerance'], 20)\n",
        "print(\"NR FOUND RESULTS =\", len(noten_results3))"
      ],
      "metadata": {
        "colab": {
          "base_uri": "https://localhost:8080/"
        },
        "id": "bNhC_1oVk3DZ",
        "outputId": "af36d403-d94e-486a-b39a-9f08d2cc3b6e"
      },
      "execution_count": 26,
      "outputs": [
        {
          "output_type": "stream",
          "name": "stdout",
          "text": [
            "QUERY IS Abstract:lactose&Abstract:nut&Abstract:intolerance\n",
            "NR FOUND RESULTS = 0\n"
          ]
        }
      ]
    },
    {
      "cell_type": "code",
      "source": [
        "noten_results4 = search_pubmed(['lactose', 'nut', 'intolerant'], 20)\n",
        "print(\"NR FOUND RESULTS =\", len(noten_results4))"
      ],
      "metadata": {
        "colab": {
          "base_uri": "https://localhost:8080/"
        },
        "id": "7ygrLIa9k8H6",
        "outputId": "aebc5bda-9f0a-4459-9baf-13d7830daa32"
      },
      "execution_count": 27,
      "outputs": [
        {
          "output_type": "stream",
          "name": "stdout",
          "text": [
            "QUERY IS Abstract:lactose&Abstract:nut&Abstract:intolerant\n",
            "NR FOUND RESULTS = 0\n"
          ]
        }
      ]
    },
    {
      "cell_type": "code",
      "source": [
        "noten_results5 = search_pubmed(['lactose', 'noten', 'intolerant'], 20)\n",
        "print(\"NR FOUND RESULTS =\", len(noten_results5))"
      ],
      "metadata": {
        "colab": {
          "base_uri": "https://localhost:8080/"
        },
        "id": "mrKSvH8ulCrj",
        "outputId": "96a8d060-b7ae-40cd-9d50-bd0ab12e30ed"
      },
      "execution_count": 28,
      "outputs": [
        {
          "output_type": "stream",
          "name": "stdout",
          "text": [
            "QUERY IS Abstract:lactose&Abstract:noten&Abstract:intolerant\n",
            "NR FOUND RESULTS = 0\n"
          ]
        }
      ]
    },
    {
      "cell_type": "code",
      "source": [
        "noten_results6 = search_pubmed(['lactose', 'noten', 'intolerantie'], 20)\n",
        "print(\"NR FOUND RESULTS =\", len(noten_results6))"
      ],
      "metadata": {
        "colab": {
          "base_uri": "https://localhost:8080/"
        },
        "id": "dE9yxHd6lF0y",
        "outputId": "b77482e1-0f5b-4ff5-a45f-1e8fc82f2434"
      },
      "execution_count": 29,
      "outputs": [
        {
          "output_type": "stream",
          "name": "stdout",
          "text": [
            "QUERY IS Abstract:lactose&Abstract:noten&Abstract:intolerantie\n",
            "NR FOUND RESULTS = 0\n"
          ]
        }
      ]
    },
    {
      "cell_type": "code",
      "source": [
        "noten_all_results = noten_results1 + noten_results2 + noten_results3 + noten_results4 + noten_results5 + noten_results6 \n",
        "noten_no_duplicates = duplicate_check(noten_all_results)\n",
        "save_results_txt(noten_no_duplicates, 'noten')"
      ],
      "metadata": {
        "colab": {
          "base_uri": "https://localhost:8080/"
        },
        "id": "l0REWZZL2SoI",
        "outputId": "0574ca1c-e4e2-48b2-f7ef-e5143c171bfd"
      },
      "execution_count": 74,
      "outputs": [
        {
          "output_type": "stream",
          "name": "stdout",
          "text": [
            "No results were found so there are no duplicates\n",
            "No results were found so there is nothing to save in a file\n"
          ]
        }
      ]
    },
    {
      "cell_type": "markdown",
      "source": [
        "# Hulpstoffen intolerantie\n",
        "\n",
        "Term combinations to look for:\n",
        "- lactose, additives, intolerance (2 results)\n",
        "- lactose, additives, intolerant (2 results)\n",
        "- lactose, food additives, intolerance (2 results)\n",
        "- lactose, food additives, intolerant (2 results)\n",
        "- lactose, hulpstoffen, intolerant (0 results)\n",
        "- lactose, hulpstoffen, intolerantie (0 results)\n",
        "- lactose, hulpstof, intolerant (0 results)\n",
        "- lactose, hulpstof, intolerantie (0 results)\n"
      ],
      "metadata": {
        "id": "mVNHFlvhljEx"
      }
    },
    {
      "cell_type": "code",
      "source": [
        "hulpstof_results1 = search_pubmed(['lactose', 'additives', 'intolerance'], 20)\n",
        "print(\"NR FOUND RESULTS =\", len(hulpstof_results1))"
      ],
      "metadata": {
        "colab": {
          "base_uri": "https://localhost:8080/"
        },
        "id": "Ku_dEJKnl7CQ",
        "outputId": "ad7aa5ff-3605-4818-c7c6-8aa325ca1bd0"
      },
      "execution_count": 30,
      "outputs": [
        {
          "output_type": "stream",
          "name": "stdout",
          "text": [
            "QUERY IS Abstract:lactose&Abstract:additives&Abstract:intolerance\n",
            "NR FOUND RESULTS = 2\n"
          ]
        }
      ]
    },
    {
      "cell_type": "code",
      "source": [
        "hulpstof_results2 = search_pubmed(['lactose', 'additives', 'intolerant'], 20)\n",
        "print(\"NR FOUND RESULTS =\", len(hulpstof_results2))"
      ],
      "metadata": {
        "colab": {
          "base_uri": "https://localhost:8080/"
        },
        "id": "Z9wnYbFKmBBF",
        "outputId": "79ffae35-420a-47a5-c05f-0d1d0faf81ad"
      },
      "execution_count": 31,
      "outputs": [
        {
          "output_type": "stream",
          "name": "stdout",
          "text": [
            "QUERY IS Abstract:lactose&Abstract:additives&Abstract:intolerant\n",
            "NR FOUND RESULTS = 1\n"
          ]
        }
      ]
    },
    {
      "cell_type": "code",
      "source": [
        "hulpstof_results3 = search_pubmed(['lactose', 'food additives', 'intolerance'], 20)\n",
        "print(\"NR FOUND RESULTS =\", len(hulpstof_results3))"
      ],
      "metadata": {
        "colab": {
          "base_uri": "https://localhost:8080/"
        },
        "id": "1pGs2WdBmD2C",
        "outputId": "ce372712-7990-43eb-e699-cc508d9d6cf8"
      },
      "execution_count": 32,
      "outputs": [
        {
          "output_type": "stream",
          "name": "stdout",
          "text": [
            "QUERY IS Abstract:lactose&Abstract:food additives&Abstract:intolerance\n",
            "NR FOUND RESULTS = 2\n"
          ]
        }
      ]
    },
    {
      "cell_type": "code",
      "source": [
        "hulpstof_results4 = search_pubmed(['lactose', 'food additives', 'intolerant'], 20)\n",
        "print(\"NR FOUND RESULTS =\", len(hulpstof_results4))"
      ],
      "metadata": {
        "colab": {
          "base_uri": "https://localhost:8080/"
        },
        "id": "QWE0ST72mHt0",
        "outputId": "4063fb85-7612-4fd0-fe0a-ac2c2f51a343"
      },
      "execution_count": 33,
      "outputs": [
        {
          "output_type": "stream",
          "name": "stdout",
          "text": [
            "QUERY IS Abstract:lactose&Abstract:food additives&Abstract:intolerant\n",
            "NR FOUND RESULTS = 1\n"
          ]
        }
      ]
    },
    {
      "cell_type": "code",
      "source": [
        "hulpstof_results5 = search_pubmed(['lactose', 'hulpstoffen', 'intolerant'], 20)\n",
        "print(\"NR FOUND RESULTS =\", len(hulpstof_results5))"
      ],
      "metadata": {
        "colab": {
          "base_uri": "https://localhost:8080/"
        },
        "id": "T164-pFbmYul",
        "outputId": "bf7b4289-61ee-44e8-9fda-cebc429aa3af"
      },
      "execution_count": 36,
      "outputs": [
        {
          "output_type": "stream",
          "name": "stdout",
          "text": [
            "QUERY IS Abstract:lactose&Abstract:hulpstoffen&Abstract:intolerant\n",
            "NR FOUND RESULTS = 0\n"
          ]
        }
      ]
    },
    {
      "cell_type": "code",
      "source": [
        "hulpstof_results6 = search_pubmed(['lactose', 'hulpstoffen', 'intolerantie'], 20)\n",
        "print(\"NR FOUND RESULTS =\", len(hulpstof_results6))"
      ],
      "metadata": {
        "colab": {
          "base_uri": "https://localhost:8080/"
        },
        "id": "pSn-0iu_mjWD",
        "outputId": "1ece95c8-e044-4c50-faf9-457885ccaa2a"
      },
      "execution_count": 37,
      "outputs": [
        {
          "output_type": "stream",
          "name": "stdout",
          "text": [
            "QUERY IS Abstract:lactose&Abstract:hulpstoffen&Abstract:intolerantie\n",
            "NR FOUND RESULTS = 0\n"
          ]
        }
      ]
    },
    {
      "cell_type": "code",
      "source": [
        "hulpstof_results7 = search_pubmed(['lactose', 'hulpstof', 'intolerant'], 20)\n",
        "print(\"NR FOUND RESULTS =\", len(hulpstof_results7))"
      ],
      "metadata": {
        "colab": {
          "base_uri": "https://localhost:8080/"
        },
        "id": "5nXkJhIdml8N",
        "outputId": "ff6389f3-4263-4bcd-ecbe-381f59311969"
      },
      "execution_count": 38,
      "outputs": [
        {
          "output_type": "stream",
          "name": "stdout",
          "text": [
            "QUERY IS Abstract:lactose&Abstract:hulpstof&Abstract:intolerant\n",
            "NR FOUND RESULTS = 0\n"
          ]
        }
      ]
    },
    {
      "cell_type": "code",
      "source": [
        "hulpstof_results8 = search_pubmed(['lactose', 'hulpstof', 'intolerantie'], 20)\n",
        "print(\"NR FOUND RESULTS =\", len(hulpstof_results8))"
      ],
      "metadata": {
        "colab": {
          "base_uri": "https://localhost:8080/"
        },
        "id": "qMgskYWbmpQ9",
        "outputId": "c159498c-f600-498f-cbac-a4d50e4809fd"
      },
      "execution_count": 39,
      "outputs": [
        {
          "output_type": "stream",
          "name": "stdout",
          "text": [
            "QUERY IS Abstract:lactose&Abstract:hulpstof&Abstract:intolerantie\n",
            "NR FOUND RESULTS = 0\n"
          ]
        }
      ]
    },
    {
      "cell_type": "code",
      "source": [
        "hulpstof_all_results = hulpstof_results1 + hulpstof_results2 + hulpstof_results3 + hulpstof_results4 + hulpstof_results5 + hulpstof_results6 + hulpstof_results7 + hulpstof_results8\n",
        "hulpstof_no_duplicates = duplicate_check(hulpstof_all_results)\n",
        "save_results_txt(hulpstof_no_duplicates, 'hulpstoffen')"
      ],
      "metadata": {
        "colab": {
          "base_uri": "https://localhost:8080/"
        },
        "id": "23RA8TKAmrsq",
        "outputId": "0e4c0a25-b5c2-4e67-c768-987a31ffef30"
      },
      "execution_count": 75,
      "outputs": [
        {
          "output_type": "stream",
          "name": "stdout",
          "text": [
            "Before duplicate check: 6 results\n",
            "After duplicate check: 3 results\n",
            "Results saved as hulpstoffen_results.txt\n"
          ]
        }
      ]
    },
    {
      "cell_type": "markdown",
      "source": [
        "# Results lined up"
      ],
      "metadata": {
        "id": "bW6TzT1Mn7l0"
      }
    },
    {
      "cell_type": "code",
      "source": [
        "soja_pubmed_count = len(soja_no_duplicates)\n",
        "soja_found = ['soy']\n",
        "gluten_pubmed_count = len(gluten_no_duplicates)\n",
        "gluten_found = ['gluten']\n",
        "suiker_pubmed_count = len(suiker_no_duplicates)\n",
        "suiker_found = ['sucrose']\n",
        "noten_pubmed_count = len(noten_no_duplicates)\n",
        "noten_found = ['']\n",
        "hulpstof_pubmed_count = len(hulpstof_no_duplicates)\n",
        "hulpstof_found = ['food additives']\n",
        "\n",
        "result_counts = [soja_pubmed_count] + [gluten_pubmed_count] + [suiker_pubmed_count] + [noten_pubmed_count] + [hulpstof_pubmed_count]\n",
        "results_found = soja_found + gluten_found + suiker_found + noten_found + hulpstof_found\n",
        "\n",
        "print(result_counts)\n",
        "print(results_found)"
      ],
      "metadata": {
        "colab": {
          "base_uri": "https://localhost:8080/"
        },
        "id": "AEUyaPHIn9hN",
        "outputId": "219e6c47-30cc-406e-8463-7bf40628d87b"
      },
      "execution_count": 82,
      "outputs": [
        {
          "output_type": "stream",
          "name": "stdout",
          "text": [
            "[7, 7, 1, 0, 3]\n",
            "['soy', 'gluten', 'sucrose', 'food additives']\n"
          ]
        }
      ]
    },
    {
      "cell_type": "code",
      "source": [
        "import matplotlib.pyplot as plt\n",
        "\n",
        "plt.figure(figsize=(10, 5))\n",
        "count_labels = [\"Soja\", \"Gluten\", \"Suiker\", \"Noten\", \"Hulpstoffen\"]\n",
        "plt.bar(count_labels, result_counts)\n",
        "plt.title(\"Found intolerance relations in PubMed data\")\n",
        "plt.xlabel(\"Intolerances\")\n",
        "plt.ylabel(\"Number of found PubMed articles\")\n",
        "plt.show()"
      ],
      "metadata": {
        "colab": {
          "base_uri": "https://localhost:8080/",
          "height": 350
        },
        "id": "W0WwkTpeoTnZ",
        "outputId": "857fc5f8-24a2-4c2d-e2e2-ef96a8be09a6"
      },
      "execution_count": 86,
      "outputs": [
        {
          "output_type": "display_data",
          "data": {
            "text/plain": [
              "<Figure size 720x360 with 1 Axes>"
            ],
            "image/png": "[encoded data removed]"
          },
          "metadata": {
            "needs_background": "light"
          }
        }
      ]
    }
  ]
}